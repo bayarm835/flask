{
 "cells": [
  {
   "cell_type": "code",
   "execution_count": 9,
   "metadata": {},
   "outputs": [
    {
     "name": "stdout",
     "output_type": "stream",
     "text": [
      " * Serving Flask app '__main__'\n",
      " * Debug mode: off\n"
     ]
    },
    {
     "name": "stderr",
     "output_type": "stream",
     "text": [
      "WARNING: This is a development server. Do not use it in a production deployment. Use a production WSGI server instead.\n",
      " * Running on http://127.0.0.1:5000\n",
      "Press CTRL+C to quit\n",
      "127.0.0.1 - - [08/Feb/2024 16:41:47] \"GET / HTTP/1.1\" 200 -\n",
      "127.0.0.1 - - [08/Feb/2024 16:41:50] \"POST /page2 HTTP/1.1\" 200 -\n",
      "127.0.0.1 - - [08/Feb/2024 16:41:53] \"GET / HTTP/1.1\" 200 -\n",
      "127.0.0.1 - - [08/Feb/2024 16:41:56] \"POST /page2 HTTP/1.1\" 200 -\n",
      "127.0.0.1 - - [08/Feb/2024 16:42:01] \"GET / HTTP/1.1\" 200 -\n",
      "127.0.0.1 - - [08/Feb/2024 16:42:05] \"POST /page2 HTTP/1.1\" 200 -\n"
     ]
    }
   ],
   "source": [
    "from flask import Flask, render_template, request\n",
    "\n",
    "app = Flask(__name__)\n",
    "\n",
    "@app.route('/')\n",
    "def home():\n",
    "    return render_template(\"index.html\")\n",
    "\n",
    "@app.route('/page2', methods=['POST'])\n",
    "def hello():\n",
    "    resultat = request.form\n",
    "    nom = resultat['Nom']\n",
    "    prenom = resultat['Prénom']\n",
    "    nomComplet = nom + \" \" + prenom\n",
    "    reponse = resultat['choix']\n",
    "    if reponse==\"reponse3\":\n",
    "        reponse_message=\"vous dites que vous ne savez pas le temps qu'il fait\"\n",
    "    elif reponse==\"reponse1\":\n",
    "        reponse_message=\"vus dites qu'il fait beau aujourd'hui\"\n",
    "    else :\n",
    "        reponse_message=\"vous dites qu'il ne fait pas beau aujourd'hui\"\n",
    "    return render_template(\"page2.html\", message=nomComplet, reponse=reponse_message)\n",
    "    \n",
    "app.run()"
   ]
  }
 ],
 "metadata": {
  "kernelspec": {
   "display_name": "base",
   "language": "python",
   "name": "python3"
  },
  "language_info": {
   "codemirror_mode": {
    "name": "ipython",
    "version": 3
   },
   "file_extension": ".py",
   "mimetype": "text/x-python",
   "name": "python",
   "nbconvert_exporter": "python",
   "pygments_lexer": "ipython3",
   "version": "3.11.7"
  }
 },
 "nbformat": 4,
 "nbformat_minor": 2
}
