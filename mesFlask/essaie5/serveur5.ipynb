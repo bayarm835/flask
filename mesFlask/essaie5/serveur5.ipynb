{
 "cells": [
  {
   "cell_type": "code",
   "execution_count": 1,
   "metadata": {},
   "outputs": [
    {
     "name": "stdout",
     "output_type": "stream",
     "text": [
      " * Serving Flask app '__main__'\n",
      " * Debug mode: off\n"
     ]
    },
    {
     "name": "stderr",
     "output_type": "stream",
     "text": [
      "WARNING: This is a development server. Do not use it in a production deployment. Use a production WSGI server instead.\n",
      " * Running on http://127.0.0.1:5000\n",
      "Press CTRL+C to quit\n",
      "127.0.0.1 - - [08/Feb/2024 14:33:00] \"GET / HTTP/1.1\" 200 -\n",
      "127.0.0.1 - - [08/Feb/2024 14:33:01] \"GET /static/style.css HTTP/1.1\" 200 -\n",
      "127.0.0.1 - - [08/Feb/2024 14:33:03] \"GET /suivante HTTP/1.1\" 200 -\n",
      "127.0.0.1 - - [08/Feb/2024 14:33:03] \"GET /static/script.js HTTP/1.1\" 404 -\n",
      "127.0.0.1 - - [08/Feb/2024 14:33:03] \"GET /static/style.css HTTP/1.1\" 304 -\n",
      "127.0.0.1 - - [08/Feb/2024 14:33:04] \"GET / HTTP/1.1\" 200 -\n",
      "127.0.0.1 - - [08/Feb/2024 14:33:04] \"GET /static/style.css HTTP/1.1\" 304 -\n",
      "127.0.0.1 - - [08/Feb/2024 14:33:05] \"GET /suivante HTTP/1.1\" 200 -\n",
      "127.0.0.1 - - [08/Feb/2024 14:33:05] \"GET /static/script.js HTTP/1.1\" 404 -\n",
      "127.0.0.1 - - [08/Feb/2024 14:33:05] \"GET /static/style.css HTTP/1.1\" 304 -\n",
      "127.0.0.1 - - [08/Feb/2024 14:33:06] \"GET / HTTP/1.1\" 200 -\n",
      "127.0.0.1 - - [08/Feb/2024 14:33:06] \"GET /static/style.css HTTP/1.1\" 304 -\n",
      "127.0.0.1 - - [08/Feb/2024 14:33:06] \"GET /suivante HTTP/1.1\" 200 -\n",
      "127.0.0.1 - - [08/Feb/2024 14:33:06] \"GET /static/style.css HTTP/1.1\" 304 -\n",
      "127.0.0.1 - - [08/Feb/2024 14:33:06] \"GET /static/script.js HTTP/1.1\" 404 -\n",
      "127.0.0.1 - - [08/Feb/2024 14:33:07] \"GET / HTTP/1.1\" 200 -\n",
      "127.0.0.1 - - [08/Feb/2024 14:33:07] \"GET /static/style.css HTTP/1.1\" 304 -\n",
      "127.0.0.1 - - [08/Feb/2024 14:33:07] \"GET /suivante HTTP/1.1\" 200 -\n",
      "127.0.0.1 - - [08/Feb/2024 14:33:07] \"GET /static/script.js HTTP/1.1\" 404 -\n",
      "127.0.0.1 - - [08/Feb/2024 14:33:07] \"GET /static/style.css HTTP/1.1\" 304 -\n",
      "127.0.0.1 - - [08/Feb/2024 14:33:09] \"GET / HTTP/1.1\" 200 -\n",
      "127.0.0.1 - - [08/Feb/2024 14:33:09] \"GET /static/style.css HTTP/1.1\" 304 -\n",
      "127.0.0.1 - - [08/Feb/2024 14:33:09] \"GET /suivante HTTP/1.1\" 200 -\n",
      "127.0.0.1 - - [08/Feb/2024 14:33:10] \"GET /static/style.css HTTP/1.1\" 304 -\n",
      "127.0.0.1 - - [08/Feb/2024 14:33:10] \"GET /static/script.js HTTP/1.1\" 404 -\n"
     ]
    }
   ],
   "source": [
    "from flask import Flask, render_template\n",
    "app = Flask(__name__)\n",
    "@app.route(\"/\")\n",
    "def hello():\n",
    "    return render_template(\"index.html\",\n",
    "    message_bienvenue = \"Bienvenue sur la page d'accueil !\")\n",
    "@app.route(\"/suivante\")\n",
    "def suite():\n",
    "    return render_template(\"page2.html\")\n",
    "app.run()\n"
   ]
  }
 ],
 "metadata": {
  "kernelspec": {
   "display_name": "base",
   "language": "python",
   "name": "python3"
  },
  "language_info": {
   "codemirror_mode": {
    "name": "ipython",
    "version": 3
   },
   "file_extension": ".py",
   "mimetype": "text/x-python",
   "name": "python",
   "nbconvert_exporter": "python",
   "pygments_lexer": "ipython3",
   "version": "3.11.7"
  }
 },
 "nbformat": 4,
 "nbformat_minor": 2
}
